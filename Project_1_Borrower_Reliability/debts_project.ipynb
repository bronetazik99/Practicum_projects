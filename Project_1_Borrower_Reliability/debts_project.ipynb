{
 "cells": [
  {
   "cell_type": "markdown",
   "id": "a1817c9e-4c54-48b0-96a7-f07958f09b44",
   "metadata": {},
   "source": [
    "# Analysis of Borrower Reliability\n",
    "\n",
    "## Introduction\n",
    "\n",
    "### Objective\n",
    "The objective of this project is to analyze whether a client's marital status and the number of children they have influence their ability to repay a loan on time. This analysis is conducted for the bank's credit department and aims to improve the accuracy of the credit scoring model—a system designed to evaluate a potential borrower's ability to repay loans.\n",
    "\n",
    "### Background\n",
    "The credit scoring model is an essential tool for financial institutions, helping them assess the risk associated with lending to clients. By incorporating insights from client data, the model can better predict loan repayment behavior, minimizing financial risks for the bank.\n",
    "\n",
    "### Dataset Description\n",
    "The dataset provided by the bank includes statistics on clients' solvency. It contains the following columns:\n",
    "\n",
    "- `children`: Number of children in the family.\n",
    "- `days_employed`: Total work experience in days.\n",
    "- `dob_years`: Age of the client in years.\n",
    "- `education`: Level of education.\n",
    "- `education_id`: Identifier for education level.\n",
    "- `family_status`: Marital status of the client.\n",
    "- `family_status_id`: Identifier for marital status.\n",
    "- `gender`: Gender of the client.\n",
    "- `income_type`: Employment type.\n",
    "- `debt`: Indicates if the client had overdue loan payments.\n",
    "- `total_income`: Monthly income of the client.\n",
    "- `purpose`: Purpose of the loan.\n",
    "\n",
    "### Goal\n",
    "The findings from this research will be used to refine the credit scoring model, ensuring it effectively incorporates key factors such as marital status and family size. This will help the bank make more informed lending decisions and better assess potential risks.\n"
   ]
  },
  {
   "cell_type": "markdown",
   "id": "dbdb66ac-76e1-4fa6-93c2-3a180a5d9376",
   "metadata": {},
   "source": [
    "## 1. Dataset Overview"
   ]
  },
  {
   "cell_type": "code",
   "execution_count": 78,
   "id": "3fd9ca09-2744-4bd8-8a8a-73c66c319f29",
   "metadata": {},
   "outputs": [],
   "source": [
    "import os\n",
    "import pandas as pd\n",
    "import matplotlib.pyplot as plt\n",
    "from scipy.stats import chi2_contingency\n",
    "import seaborn as sns"
   ]
  },
  {
   "cell_type": "code",
   "execution_count": 2,
   "id": "7b482047-4bc9-4e12-ad24-928792426181",
   "metadata": {},
   "outputs": [
    {
     "name": "stdout",
     "output_type": "stream",
     "text": [
      "Data successfully loaded locally.\n"
     ]
    }
   ],
   "source": [
    "if os.path.exists('data_debts.csv'):\n",
    "    data = pd.read_csv('data_debts.csv')\n",
    "    print(\"Data successfully loaded locally.\")\n",
    "else:\n",
    "    data = pd.read_csv('https://raw.githubusercontent.com/bronetazik99/Practicum_projects/refs/heads/main/Project1_debtsProject_1/data_debts.csv')\n",
    "    print(\"Local data not available. Data loaded from the web.\")"
   ]
  },
  {
   "cell_type": "code",
   "execution_count": 3,
   "id": "9bfa5bed-3874-4662-adc0-bc10dd77479d",
   "metadata": {},
   "outputs": [
    {
     "data": {
      "text/html": [
       "<div>\n",
       "<style scoped>\n",
       "    .dataframe tbody tr th:only-of-type {\n",
       "        vertical-align: middle;\n",
       "    }\n",
       "\n",
       "    .dataframe tbody tr th {\n",
       "        vertical-align: top;\n",
       "    }\n",
       "\n",
       "    .dataframe thead th {\n",
       "        text-align: right;\n",
       "    }\n",
       "</style>\n",
       "<table border=\"1\" class=\"dataframe\">\n",
       "  <thead>\n",
       "    <tr style=\"text-align: right;\">\n",
       "      <th></th>\n",
       "      <th>children</th>\n",
       "      <th>days_employed</th>\n",
       "      <th>dob_years</th>\n",
       "      <th>education</th>\n",
       "      <th>education_id</th>\n",
       "      <th>family_status</th>\n",
       "      <th>family_status_id</th>\n",
       "      <th>gender</th>\n",
       "      <th>income_type</th>\n",
       "      <th>debt</th>\n",
       "      <th>total_income</th>\n",
       "      <th>purpose</th>\n",
       "    </tr>\n",
       "  </thead>\n",
       "  <tbody>\n",
       "    <tr>\n",
       "      <th>0</th>\n",
       "      <td>1</td>\n",
       "      <td>-8437.673028</td>\n",
       "      <td>42</td>\n",
       "      <td>высшее</td>\n",
       "      <td>0</td>\n",
       "      <td>женат / замужем</td>\n",
       "      <td>0</td>\n",
       "      <td>F</td>\n",
       "      <td>сотрудник</td>\n",
       "      <td>0</td>\n",
       "      <td>253875.639453</td>\n",
       "      <td>покупка жилья</td>\n",
       "    </tr>\n",
       "    <tr>\n",
       "      <th>1</th>\n",
       "      <td>1</td>\n",
       "      <td>-4024.803754</td>\n",
       "      <td>36</td>\n",
       "      <td>среднее</td>\n",
       "      <td>1</td>\n",
       "      <td>женат / замужем</td>\n",
       "      <td>0</td>\n",
       "      <td>F</td>\n",
       "      <td>сотрудник</td>\n",
       "      <td>0</td>\n",
       "      <td>112080.014102</td>\n",
       "      <td>приобретение автомобиля</td>\n",
       "    </tr>\n",
       "    <tr>\n",
       "      <th>2</th>\n",
       "      <td>0</td>\n",
       "      <td>-5623.422610</td>\n",
       "      <td>33</td>\n",
       "      <td>Среднее</td>\n",
       "      <td>1</td>\n",
       "      <td>женат / замужем</td>\n",
       "      <td>0</td>\n",
       "      <td>M</td>\n",
       "      <td>сотрудник</td>\n",
       "      <td>0</td>\n",
       "      <td>145885.952297</td>\n",
       "      <td>покупка жилья</td>\n",
       "    </tr>\n",
       "    <tr>\n",
       "      <th>3</th>\n",
       "      <td>3</td>\n",
       "      <td>-4124.747207</td>\n",
       "      <td>32</td>\n",
       "      <td>среднее</td>\n",
       "      <td>1</td>\n",
       "      <td>женат / замужем</td>\n",
       "      <td>0</td>\n",
       "      <td>M</td>\n",
       "      <td>сотрудник</td>\n",
       "      <td>0</td>\n",
       "      <td>267628.550329</td>\n",
       "      <td>дополнительное образование</td>\n",
       "    </tr>\n",
       "    <tr>\n",
       "      <th>4</th>\n",
       "      <td>0</td>\n",
       "      <td>340266.072047</td>\n",
       "      <td>53</td>\n",
       "      <td>среднее</td>\n",
       "      <td>1</td>\n",
       "      <td>гражданский брак</td>\n",
       "      <td>1</td>\n",
       "      <td>F</td>\n",
       "      <td>пенсионер</td>\n",
       "      <td>0</td>\n",
       "      <td>158616.077870</td>\n",
       "      <td>сыграть свадьбу</td>\n",
       "    </tr>\n",
       "  </tbody>\n",
       "</table>\n",
       "</div>"
      ],
      "text/plain": [
       "   children  days_employed  dob_years education  education_id  \\\n",
       "0         1   -8437.673028         42    высшее             0   \n",
       "1         1   -4024.803754         36   среднее             1   \n",
       "2         0   -5623.422610         33   Среднее             1   \n",
       "3         3   -4124.747207         32   среднее             1   \n",
       "4         0  340266.072047         53   среднее             1   \n",
       "\n",
       "      family_status  family_status_id gender income_type  debt   total_income  \\\n",
       "0   женат / замужем                 0      F   сотрудник     0  253875.639453   \n",
       "1   женат / замужем                 0      F   сотрудник     0  112080.014102   \n",
       "2   женат / замужем                 0      M   сотрудник     0  145885.952297   \n",
       "3   женат / замужем                 0      M   сотрудник     0  267628.550329   \n",
       "4  гражданский брак                 1      F   пенсионер     0  158616.077870   \n",
       "\n",
       "                      purpose  \n",
       "0               покупка жилья  \n",
       "1     приобретение автомобиля  \n",
       "2               покупка жилья  \n",
       "3  дополнительное образование  \n",
       "4             сыграть свадьбу  "
      ]
     },
     "execution_count": 3,
     "metadata": {},
     "output_type": "execute_result"
    }
   ],
   "source": [
    "data.head()"
   ]
  },
  {
   "cell_type": "markdown",
   "id": "59aabbec-1cde-4c28-aaeb-470daead4ca3",
   "metadata": {},
   "source": [
    "The first issue we can see is that variable `days_employed` has negative numbers. This problem has to be solved.\n",
    "\n",
    "Moreover,`education` has the same meaning, but is written differently due to variations in uppercase and lowercase letters"
   ]
  },
  {
   "cell_type": "code",
   "execution_count": 71,
   "id": "ae410af5-0722-4d76-abda-c511fe806784",
   "metadata": {
    "scrolled": true
   },
   "outputs": [
    {
     "name": "stdout",
     "output_type": "stream",
     "text": [
      "<class 'pandas.core.frame.DataFrame'>\n",
      "Index: 21331 entries, 0 to 21524\n",
      "Data columns (total 14 columns):\n",
      " #   Column                 Non-Null Count  Dtype  \n",
      "---  ------                 --------------  -----  \n",
      " 0   children               21331 non-null  int64  \n",
      " 1   days_employed          21331 non-null  float64\n",
      " 2   dob_years              21331 non-null  int64  \n",
      " 3   education              21331 non-null  object \n",
      " 4   education_id           21331 non-null  int64  \n",
      " 5   family_status          21331 non-null  object \n",
      " 6   family_status_id       21331 non-null  int64  \n",
      " 7   gender                 21331 non-null  object \n",
      " 8   income_type            21331 non-null  object \n",
      " 9   debt                   21331 non-null  int64  \n",
      " 10  total_income           21331 non-null  int32  \n",
      " 11  purpose                21331 non-null  object \n",
      " 12  total_income_category  21331 non-null  object \n",
      " 13  purpose_category       21331 non-null  object \n",
      "dtypes: float64(1), int32(1), int64(5), object(7)\n",
      "memory usage: 2.4+ MB\n"
     ]
    }
   ],
   "source": [
    "data.info()"
   ]
  },
  {
   "cell_type": "markdown",
   "id": "0325df88-9ed7-4fb5-ac13-d4a6a912f95a",
   "metadata": {},
   "source": [
    "The dataset consists of **21,525 rows** and **12 columns**, providing information about loan applicants and their repayment behavior.\n",
    "\n",
    "Variables `days_employed` and `total_income` have missing entries that require preprocessing."
   ]
  },
  {
   "cell_type": "markdown",
   "id": "9bf805e0-8006-4c17-a5e7-9754f6bab8b8",
   "metadata": {},
   "source": [
    "## 2. Data Preparation"
   ]
  },
  {
   "cell_type": "markdown",
   "id": "b5d7955a-c2ac-4d9e-831d-abb8827a491b",
   "metadata": {},
   "source": [
    "### 2.1 Handling missing values"
   ]
  },
  {
   "cell_type": "code",
   "execution_count": 5,
   "id": "ac2fe53a-baa3-4479-b4b2-e0b7ba5f18f6",
   "metadata": {},
   "outputs": [
    {
     "data": {
      "text/plain": [
       "children               0\n",
       "days_employed       2174\n",
       "dob_years              0\n",
       "education              0\n",
       "education_id           0\n",
       "family_status          0\n",
       "family_status_id       0\n",
       "gender                 0\n",
       "income_type            0\n",
       "debt                   0\n",
       "total_income        2174\n",
       "purpose                0\n",
       "dtype: int64"
      ]
     },
     "execution_count": 5,
     "metadata": {},
     "output_type": "execute_result"
    }
   ],
   "source": [
    "data.isna().sum()"
   ]
  },
  {
   "cell_type": "markdown",
   "id": "3129a18f-70ac-4aab-be38-6b61d20d88dc",
   "metadata": {},
   "source": [
    "The dataset contains **2,174 missing values** in the `days_employed` and `total_income` columns, which need to be handled during preprocessing to ensure accurate analysis. All other columns are complete and ready for further exploration."
   ]
  },
  {
   "cell_type": "markdown",
   "id": "113623ad-bdab-4359-8ba6-568270907368",
   "metadata": {},
   "source": [
    "The `total_income` column contains data on clients' income. The income amount is most influenced by the type of employment. Therefore, the missing values in this column should be filled with the **median value for each employment type** from the `income_type` column. \n",
    "\n",
    "For example, if a person with the employment type \"employee\" has a missing value in the `total_income` column, it should be filled with the median income of all records with the same employment type."
   ]
  },
  {
   "cell_type": "code",
   "execution_count": 6,
   "id": "5ea2be78-b339-4744-86a9-274fcb88264c",
   "metadata": {},
   "outputs": [],
   "source": [
    "for t in data['income_type'].unique():\n",
    "    data.loc[(data['income_type'] == t) & (data['total_income'].isna()), 'total_income'] = \\\n",
    "    data.loc[(data['income_type'] == t), 'total_income'].median()"
   ]
  },
  {
   "cell_type": "markdown",
   "id": "6ba31e36-ebd3-4b3e-b94d-2556b77c9093",
   "metadata": {},
   "source": [
    "Let's change negative values for `days_employed` on positive:"
   ]
  },
  {
   "cell_type": "code",
   "execution_count": 7,
   "id": "f7f73bb0-5bef-4558-8123-fc082e90753d",
   "metadata": {},
   "outputs": [],
   "source": [
    "data['days_employed'] = data['days_employed'].abs()"
   ]
  },
  {
   "cell_type": "markdown",
   "id": "ea4fed6b-9b28-4612-b2a7-df5e47a93d5c",
   "metadata": {},
   "source": [
    "We will fill the missing values in the `days_employed` column with the **median values for each employment type** from the `income_type` column."
   ]
  },
  {
   "cell_type": "code",
   "execution_count": 8,
   "id": "28b9321b-4383-4b1b-93dd-cb8b1da960c0",
   "metadata": {},
   "outputs": [],
   "source": [
    "for t in data['income_type'].unique():\n",
    "    data.loc[(data['income_type'] == t) & (data['days_employed'].isna()), 'days_employed'] = \\\n",
    "    data.loc[(data['income_type'] == t), 'days_employed'].median()"
   ]
  },
  {
   "cell_type": "markdown",
   "id": "9c04b640-68da-4b8d-bb8a-e2d0501880a4",
   "metadata": {},
   "source": [
    "Check that we have no missing values:"
   ]
  },
  {
   "cell_type": "code",
   "execution_count": 9,
   "id": "dd682233-0fcd-42e7-b0bb-36c6eceff5b5",
   "metadata": {},
   "outputs": [
    {
     "data": {
      "text/plain": [
       "children            0\n",
       "days_employed       0\n",
       "dob_years           0\n",
       "education           0\n",
       "education_id        0\n",
       "family_status       0\n",
       "family_status_id    0\n",
       "gender              0\n",
       "income_type         0\n",
       "debt                0\n",
       "total_income        0\n",
       "purpose             0\n",
       "dtype: int64"
      ]
     },
     "execution_count": 9,
     "metadata": {},
     "output_type": "execute_result"
    }
   ],
   "source": [
    "data.isna().sum()"
   ]
  },
  {
   "cell_type": "markdown",
   "id": "3750c411-986a-4105-9d4b-8044e0a72fd3",
   "metadata": {},
   "source": [
    "### 2.2. Handling abnormal values"
   ]
  },
  {
   "cell_type": "markdown",
   "id": "00ce0705-0000-4c29-baf0-761d23ef4807",
   "metadata": {},
   "source": [
    "Let's look at the median length of employment in days for each type of employment:"
   ]
  },
  {
   "cell_type": "code",
   "execution_count": 10,
   "id": "0ba13408-dbc0-4cc5-99d5-bb91be7c52b4",
   "metadata": {},
   "outputs": [
    {
     "data": {
      "text/plain": [
       "income_type\n",
       "безработный        366413.652744\n",
       "в декрете            3296.759962\n",
       "госслужащий          2689.368353\n",
       "компаньон            1547.382223\n",
       "пенсионер          365213.306266\n",
       "предприниматель       520.848083\n",
       "сотрудник            1574.202821\n",
       "студент               578.751554\n",
       "Name: days_employed, dtype: float64"
      ]
     },
     "execution_count": 10,
     "metadata": {},
     "output_type": "execute_result"
    }
   ],
   "source": [
    "data.groupby('income_type')['days_employed'].agg('median')"
   ]
  },
  {
   "cell_type": "markdown",
   "id": "02e0c3af-c534-4427-a0a3-3398203dc41e",
   "metadata": {},
   "source": [
    "Check the `children` column:"
   ]
  },
  {
   "cell_type": "code",
   "execution_count": 11,
   "id": "dd6525ac-aacc-4664-882c-6dd9fda85ff4",
   "metadata": {},
   "outputs": [
    {
     "data": {
      "text/plain": [
       "children\n",
       " 0     14149\n",
       " 1      4818\n",
       " 2      2055\n",
       " 3       330\n",
       " 20       76\n",
       "-1        47\n",
       " 4        41\n",
       " 5         9\n",
       "Name: count, dtype: int64"
      ]
     },
     "execution_count": 11,
     "metadata": {},
     "output_type": "execute_result"
    }
   ],
   "source": [
    "data['children'].value_counts()"
   ]
  },
  {
   "cell_type": "markdown",
   "id": "94e19cc9-70ff-4276-872e-8220364d525f",
   "metadata": {},
   "source": [
    "**-20** and **-1** are quite abnormal values for the number of children. We'll delete these rows:"
   ]
  },
  {
   "cell_type": "code",
   "execution_count": 12,
   "id": "363df915-395d-4f84-9b22-4942ff89ba55",
   "metadata": {},
   "outputs": [],
   "source": [
    "data = data[(data['children'] != -1) & (data['children'] != 20)]"
   ]
  },
  {
   "cell_type": "code",
   "execution_count": 13,
   "id": "428801f2-0fc0-41cc-af29-91f773b35958",
   "metadata": {},
   "outputs": [
    {
     "data": {
      "text/plain": [
       "array([1, 0, 3, 2, 4, 5], dtype=int64)"
      ]
     },
     "execution_count": 13,
     "metadata": {},
     "output_type": "execute_result"
    }
   ],
   "source": [
    "data['children'].unique()"
   ]
  },
  {
   "cell_type": "markdown",
   "id": "25a69b35-d862-473c-8c87-e9fb0f8e0e4f",
   "metadata": {},
   "source": [
    "### 2.3 Changing data type"
   ]
  },
  {
   "cell_type": "markdown",
   "id": "28556a7e-4713-4cb6-9699-2e506c7f8508",
   "metadata": {},
   "source": [
    "We'll transform `total_income` from **float** type to **integer**:"
   ]
  },
  {
   "cell_type": "code",
   "execution_count": 14,
   "id": "25ded614-076c-4b30-8e28-a0919035c0de",
   "metadata": {},
   "outputs": [],
   "source": [
    "data['total_income'] = data['total_income'].astype(int)"
   ]
  },
  {
   "cell_type": "markdown",
   "id": "4d3713b0-dba2-44d2-b85f-c8e269f8e6de",
   "metadata": {},
   "source": [
    "### 2.4 Handling duplicates"
   ]
  },
  {
   "cell_type": "markdown",
   "id": "b0d9f1f2-8b26-424f-9514-7b95e1f988d3",
   "metadata": {},
   "source": [
    "Check the `education` column for implicit duplicates:"
   ]
  },
  {
   "cell_type": "code",
   "execution_count": 15,
   "id": "75b49e32-bbba-4e4e-9fd8-df4964b5d65a",
   "metadata": {},
   "outputs": [
    {
     "data": {
      "text/plain": [
       "education\n",
       "среднее                13667\n",
       "высшее                  4698\n",
       "СРЕДНЕЕ                  766\n",
       "Среднее                  703\n",
       "неоконченное высшее      665\n",
       "ВЫСШЕЕ                   271\n",
       "Высшее                   268\n",
       "начальное                250\n",
       "Неоконченное высшее       47\n",
       "НЕОКОНЧЕННОЕ ВЫСШЕЕ       29\n",
       "НАЧАЛЬНОЕ                 17\n",
       "Начальное                 15\n",
       "ученая степень             4\n",
       "Ученая степень             1\n",
       "УЧЕНАЯ СТЕПЕНЬ             1\n",
       "Name: count, dtype: int64"
      ]
     },
     "execution_count": 15,
     "metadata": {},
     "output_type": "execute_result"
    }
   ],
   "source": [
    "data['education'].value_counts()"
   ]
  },
  {
   "cell_type": "markdown",
   "id": "05a500f7-2367-4d1c-9447-cf61ed7d180f",
   "metadata": {},
   "source": [
    "This column contains identical values written differently due to variations in uppercase and lowercase letters. We will convert all values to lowercase for consistency."
   ]
  },
  {
   "cell_type": "code",
   "execution_count": 16,
   "id": "0a9b15b5-fb16-4f50-b5e4-ee144d0f3dd9",
   "metadata": {},
   "outputs": [],
   "source": [
    "data['education'] = data['education'].str.lower()"
   ]
  },
  {
   "cell_type": "markdown",
   "id": "194582cc-b189-461c-aebc-f1e11a5da974",
   "metadata": {},
   "source": [
    "Check the number of duplicates and delete them if they exist:"
   ]
  },
  {
   "cell_type": "code",
   "execution_count": 17,
   "id": "6e7c9066-0332-4c40-8d4f-6d9839116733",
   "metadata": {},
   "outputs": [
    {
     "data": {
      "text/plain": [
       "71"
      ]
     },
     "execution_count": 17,
     "metadata": {},
     "output_type": "execute_result"
    }
   ],
   "source": [
    "data.duplicated().sum()"
   ]
  },
  {
   "cell_type": "code",
   "execution_count": 18,
   "id": "b0fe2045-2f3d-4525-a48d-fd956f23250c",
   "metadata": {},
   "outputs": [],
   "source": [
    "data = data.drop_duplicates()"
   ]
  },
  {
   "cell_type": "markdown",
   "id": "fe413744-5f2a-4bfb-863c-f09574843aff",
   "metadata": {},
   "source": [
    "### 2.5 Categorization of data"
   ]
  },
  {
   "cell_type": "markdown",
   "id": "66750c53-6bdd-4ad2-baaa-8082ab218ad6",
   "metadata": {},
   "source": [
    "We will create a new column in the dataframe `data` called `total_income_category` with the following categories:\n",
    "\n",
    "- **0–30,000**: `'E'`\n",
    "- **30,001–50,000**: `'D'`\n",
    "- **50,001–200,000**: `'C'`\n",
    "- **200,001–1,000,000**: `'B'`\n",
    "- **1,000,001 and above**: `'A'`"
   ]
  },
  {
   "cell_type": "code",
   "execution_count": 21,
   "id": "73c072e7-6260-4b60-8a63-4b4ebe1d3e01",
   "metadata": {},
   "outputs": [],
   "source": [
    "def categorize_income(income):\n",
    "    try:\n",
    "        if 0 <= income <= 30000:\n",
    "            return 'E'\n",
    "        elif 30001 <= income <= 50000:\n",
    "            return 'D'\n",
    "        elif 50001 <= income <= 200000:\n",
    "            return 'C'\n",
    "        elif 200001 <= income <= 1000000:\n",
    "            return 'B'\n",
    "        elif income >= 1000001:\n",
    "            return 'A'\n",
    "    except:\n",
    "        pass       "
   ]
  },
  {
   "cell_type": "code",
   "execution_count": 22,
   "id": "655858dd-47a2-4a57-b013-e7aeb5f3d2e0",
   "metadata": {},
   "outputs": [],
   "source": [
    "data['total_income_category'] = data['total_income'].apply(categorize_income)"
   ]
  },
  {
   "cell_type": "markdown",
   "id": "5c4cccde-628d-4b6c-9cb2-bc8db277bf5c",
   "metadata": {},
   "source": [
    "We will check the list of unique loan purposes from the `purpose` column."
   ]
  },
  {
   "cell_type": "code",
   "execution_count": 23,
   "id": "d83c63be-cb14-496e-89a4-e5cf499d4df4",
   "metadata": {},
   "outputs": [
    {
     "data": {
      "text/plain": [
       "array(['покупка жилья', 'приобретение автомобиля',\n",
       "       'дополнительное образование', 'сыграть свадьбу',\n",
       "       'операции с жильем', 'образование', 'на проведение свадьбы',\n",
       "       'покупка жилья для семьи', 'покупка недвижимости',\n",
       "       'покупка коммерческой недвижимости', 'покупка жилой недвижимости',\n",
       "       'строительство собственной недвижимости', 'недвижимость',\n",
       "       'строительство недвижимости', 'на покупку подержанного автомобиля',\n",
       "       'на покупку своего автомобиля',\n",
       "       'операции с коммерческой недвижимостью',\n",
       "       'строительство жилой недвижимости', 'жилье',\n",
       "       'операции со своей недвижимостью', 'автомобили',\n",
       "       'заняться образованием', 'сделка с подержанным автомобилем',\n",
       "       'получение образования', 'автомобиль', 'свадьба',\n",
       "       'получение дополнительного образования', 'покупка своего жилья',\n",
       "       'операции с недвижимостью', 'получение высшего образования',\n",
       "       'свой автомобиль', 'сделка с автомобилем',\n",
       "       'профильное образование', 'высшее образование',\n",
       "       'покупка жилья для сдачи', 'на покупку автомобиля', 'ремонт жилью',\n",
       "       'заняться высшим образованием'], dtype=object)"
      ]
     },
     "execution_count": 23,
     "metadata": {},
     "output_type": "execute_result"
    }
   ],
   "source": [
    "data['purpose'].unique()"
   ]
  },
  {
   "cell_type": "markdown",
   "id": "2e73df7a-13aa-4eca-bd07-b0c5d67b9fa7",
   "metadata": {},
   "source": [
    "We will create a function that categorizes the values in the `purpose` column into a new column called `purpose_category` with the following categories:\n",
    "\n",
    "- `'операции с автомобилем'` (operations with cars)\n",
    "- `'операции с недвижимостью'` (operations with real estate)\n",
    "- `'проведение свадьбы'` (wedding arrangements)\n",
    "- `'получение образования'` (education)\n",
    "\n",
    "For example:\n",
    "- If the `purpose` column contains a substring like `'на покупку автомобиля'` (for car purchase), the new column `purpose_category` will have the value `'операции с автомобилем'`."
   ]
  },
  {
   "cell_type": "code",
   "execution_count": 24,
   "id": "b2ce1543-9a19-404a-8995-031f14e19b4d",
   "metadata": {},
   "outputs": [],
   "source": [
    "def categorize_purpose(row):\n",
    "    try:\n",
    "        if 'автом' in row:\n",
    "            return 'операции с автомобилем'\n",
    "        elif 'жил' in row or 'недвиж' in row:\n",
    "            return 'операции с недвижимостью'\n",
    "        elif 'свад' in row:\n",
    "            return 'проведение свадьбы'\n",
    "        elif 'образов' in row:\n",
    "            return 'получение образования'\n",
    "    except:\n",
    "        return 'нет категории'"
   ]
  },
  {
   "cell_type": "code",
   "execution_count": 25,
   "id": "7a488dd2-9ac1-4f5a-b36a-08fd1ac22cd5",
   "metadata": {},
   "outputs": [],
   "source": [
    "data['purpose_category'] = data['purpose'].apply(categorize_purpose)"
   ]
  },
  {
   "cell_type": "markdown",
   "id": "76c6cafe-04a5-4dac-b211-83be38291929",
   "metadata": {},
   "source": [
    "## 3. Exploratory Data Analysis (EDA)"
   ]
  },
  {
   "cell_type": "markdown",
   "id": "21a69391-2867-47d0-ac66-10877facddfe",
   "metadata": {},
   "source": [
    "### 3.1 Is there a relationship between the number of children and loan repayment?"
   ]
  },
  {
   "cell_type": "code",
   "execution_count": 47,
   "id": "e4b1972f-5773-4a86-847d-6c0b23fddbed",
   "metadata": {},
   "outputs": [
    {
     "name": "stdout",
     "output_type": "stream",
     "text": [
      "   children_  debt_count  debt_sum  debt_mean\n",
      "0          0       14091      1063   0.075438\n",
      "1          1        4808       444   0.092346\n",
      "2          2        2052       194   0.094542\n",
      "3          3         330        27   0.081818\n",
      "4          4          41         4   0.097561\n",
      "5          5           9         0   0.000000\n"
     ]
    }
   ],
   "source": [
    "child_debt_ratio = data.groupby('children').agg({'debt' : ['count', 'sum', 'mean']}).reset_index()\n",
    "child_debt_ratio.columns = child_debt_ratio.columns.map('_'.join)\n",
    "print(child_debt_ratio)"
   ]
  },
  {
   "cell_type": "code",
   "execution_count": 82,
   "id": "06a8c380-beaa-4a88-89a8-9db9b0e4b845",
   "metadata": {},
   "outputs": [
    {
     "data": {
      "image/png": "[encoded data removed]",
      "text/plain": [
       "<Figure size 800x500 with 1 Axes>"
      ]
     },
     "metadata": {},
     "output_type": "display_data"
    }
   ],
   "source": [
    "plt.figure(figsize=(8, 5))\n",
    "sns.barplot(data=child_debt_ratio, x='children_', y='debt_mean', palette='Blues_d')\n",
    "plt.title('Proportion of Loan Repayment Issues by Number of Children')\n",
    "plt.xlabel('Number of Children')\n",
    "plt.ylabel('Proportion of Repayment Issues')\n",
    "plt.xticks(child_debt_ratio['children_'])\n",
    "plt.grid(axis='y', linestyle='--', alpha=0.7)\n",
    "plt.show()"
   ]
  },
  {
   "cell_type": "markdown",
   "id": "6560cc99-e876-4121-9863-956f47c35646",
   "metadata": {},
   "source": [
    "There is a slight increase in the proportion of loan repayment issues as the number of children increases, with a peak for families with 4 children. Families with 5 children exhibit no repayment issues, likely due to a small sample size. Further statistical analysis is required to confirm the significance of this trend."
   ]
  },
  {
   "cell_type": "markdown",
   "id": "94b306b7-cfa3-42c5-af75-059bd2f3ec34",
   "metadata": {},
   "source": [
    "**Hypotheses:**\n",
    "\n",
    "**Null Hypothesis (H₀):**  \n",
    "There is no relationship between the number of children and loan repayment issues. The proportion of clients with repayment issues is the same across all groups.\n",
    "\n",
    "**Alternative Hypothesis (H₁):**  \n",
    "There is a relationship between the number of children and loan repayment issues. The proportion of clients with repayment issues differs across groups."
   ]
  },
  {
   "cell_type": "code",
   "execution_count": 67,
   "id": "6eabf930-4766-4de2-943d-7d765cc76b6a",
   "metadata": {},
   "outputs": [
    {
     "name": "stdout",
     "output_type": "stream",
     "text": [
      "Chi-Square Test Statistic: 19.314281386265407\n",
      "p-value: 0.0006817070498778774\n",
      "\n",
      "Conclusion: Reject the null hypothesis. There is a significant relationship between the number of children and loan repayment issues.\n"
     ]
    }
   ],
   "source": [
    "# Filter out clients with 5 children\n",
    "filtered_data = data[data['children'] != 5]\n",
    "\n",
    "# Create the contingency table\n",
    "contingency_table = pd.crosstab(filtered_data['children'], filtered_data['debt'])\n",
    "\n",
    "# Perform the Chi-Square test\n",
    "chi2, p, dof, expected = chi2_contingency(contingency_table)\n",
    "\n",
    "print(\"Chi-Square Test Statistic:\", chi2)\n",
    "print(\"p-value:\", p)\n",
    "\n",
    "if p < 0.05:\n",
    "    print(\"\\nConclusion: Reject the null hypothesis. There is a significant relationship between the number of children and loan repayment issues.\")\n",
    "else:\n",
    "    print(\"\\nConclusion: Fail to reject the null hypothesis. There is no significant relationship between the number of children and loan repayment issues.\")\n"
   ]
  },
  {
   "cell_type": "markdown",
   "id": "35e71d5c-68ad-4e97-b21d-51b184c1abd5",
   "metadata": {},
   "source": [
    "We reject the null hypothesis. This means there is a statistically significant relationship between the number of children and loan repayment issues. The number of children a client has impacts their likelihood of repaying a loan on time."
   ]
  },
  {
   "cell_type": "markdown",
   "id": "e137fb96-321d-4241-bb75-cbdcbfcbfb7b",
   "metadata": {},
   "source": [
    "### 3.2 Is there a relationship between marital status and loan repayment?"
   ]
  },
  {
   "cell_type": "code",
   "execution_count": 60,
   "id": "41b64b9c-b406-4caf-9c52-2f3a9d10f334",
   "metadata": {},
   "outputs": [
    {
     "name": "stdout",
     "output_type": "stream",
     "text": [
      "          family_status_  debt_count  debt_sum  debt_mean\n",
      "0  Не женат / не замужем        2796       273   0.097639\n",
      "1              в разводе        1189        84   0.070648\n",
      "2         вдовец / вдова         951        63   0.066246\n",
      "3       гражданский брак        4134       385   0.093130\n",
      "4        женат / замужем       12261       927   0.075606\n"
     ]
    }
   ],
   "source": [
    "status_debt = data.groupby('family_status').agg({'debt': ['count', 'sum', 'mean']}).reset_index()\n",
    "status_debt.columns = status_debt.columns.map('_'.join)\n",
    "print(status_debt)"
   ]
  },
  {
   "cell_type": "code",
   "execution_count": 80,
   "id": "bfc92e52-0b22-4a6d-a641-9041635dbab0",
   "metadata": {},
   "outputs": [
    {
     "data": {
      "image/png": "[encoded data removed]",
      "text/plain": [
       "<Figure size 800x500 with 1 Axes>"
      ]
     },
     "metadata": {},
     "output_type": "display_data"
    }
   ],
   "source": [
    "plt.figure(figsize=(8, 5))\n",
    "sns.barplot(data=status_debt, x='family_status_', y='debt_mean', palette='Blues_d')\n",
    "plt.title('Proportion of Loan Repayment Issues by Marital Status')\n",
    "plt.xlabel('Marital Status')\n",
    "plt.ylabel('Proportion of Repayment Issues')\n",
    "plt.xticks(rotation=45, ha='right')\n",
    "plt.grid(axis='y', linestyle='--', alpha=0.7)\n",
    "plt.show()"
   ]
  },
  {
   "cell_type": "markdown",
   "id": "1758253b-88ba-4604-ab96-6cd2405482fe",
   "metadata": {},
   "source": [
    "1. Clients who are **not married** (`Не женат / не замужем`) have the highest proportion of repayment issues, approximately 9.76%.\n",
    "2. Clients who are **widowed** (`вдовец / вдова`) exhibit the lowest proportion of repayment issues, around 6.62%.\n",
    "3. Clients in a **civil marriage** (`гражданский брак`) also show a relatively high proportion of repayment issues, about 9.31%.\n",
    "4. Clients who are **married** (`женат / замужем`) and **divorced** (`в разводе`) show moderate proportions of repayment issues, 7.56% and 7.06%, respectively."
   ]
  },
  {
   "cell_type": "markdown",
   "id": "882c603f-c2d6-4aa6-b607-48cff88a15da",
   "metadata": {},
   "source": [
    "**Hypotheses:**\n",
    "\n",
    "**Null Hypothesis (H₀):**  \n",
    "There is no relationship between marital status and loan repayment issues. The proportions of repayment issues are the same across all marital status groups.\n",
    "\n",
    "**Alternative Hypothesis (H₁):**  \n",
    "There is a relationship between marital status and loan repayment issues. The proportions of repayment issues differ across marital status groups.\n"
   ]
  },
  {
   "cell_type": "code",
   "execution_count": 64,
   "id": "c10fef66-099f-4fc3-8eb5-ef58fcbe1ea9",
   "metadata": {},
   "outputs": [
    {
     "name": "stdout",
     "output_type": "stream",
     "text": [
      "Chi-Square Test Statistic: 27.784522630372297\n",
      "p-value: 1.3792030784697729e-05\n",
      "\n",
      "Conclusion: Reject the null hypothesis. There is a significant relationship between marital status and loan repayment issues.\n"
     ]
    }
   ],
   "source": [
    "# Create a contingency table\n",
    "contingency_table = pd.crosstab(data['family_status'], data['debt'])\n",
    "\n",
    "# Perform the Chi-Square test\n",
    "chi2, p, dof, expected = chi2_contingency(contingency_table)\n",
    "\n",
    "print(\"Chi-Square Test Statistic:\", chi2)\n",
    "print(\"p-value:\", p)\n",
    "\n",
    "if p < 0.05:\n",
    "    print(\"\\nConclusion: Reject the null hypothesis. There is a significant relationship between marital status and loan repayment issues.\")\n",
    "else:\n",
    "    print(\"\\nConclusion: Fail to reject the null hypothesis. There is no significant relationship between marital status and loan repayment issues.\")\n"
   ]
  },
  {
   "cell_type": "markdown",
   "id": "6f4f7fda-d309-4732-a0a6-1fdd030e525b",
   "metadata": {},
   "source": [
    "We reject the null hypothesis. This indicates that there is a statistically significant relationship between marital status and loan repayment issues. Marital status plays a role in determining the likelihood of loan repayment."
   ]
  },
  {
   "cell_type": "markdown",
   "id": "118bb053-92fe-45aa-ba0f-a4a7fc8985ac",
   "metadata": {},
   "source": [
    "### 3.3 Is there a relationship between income level and loan repayment?"
   ]
  },
  {
   "cell_type": "code",
   "execution_count": 68,
   "id": "84a51ed9-3b23-46c8-8935-91a5f2fe2c3a",
   "metadata": {},
   "outputs": [
    {
     "name": "stdout",
     "output_type": "stream",
     "text": [
      "  total_income_category_  debt_count  debt_sum  debt_mean\n",
      "0                      A          25         2   0.080000\n",
      "1                      B        5014       354   0.070602\n",
      "2                      C       15921      1353   0.084982\n",
      "3                      D         349        21   0.060172\n",
      "4                      E          22         2   0.090909\n"
     ]
    }
   ],
   "source": [
    "income_debt = data.groupby('total_income_category').agg({'debt': ['count', 'sum', 'mean']}).reset_index()\n",
    "income_debt.columns = income_debt.columns.map('_'.join)\n",
    "print(income_debt)"
   ]
  },
  {
   "cell_type": "code",
   "execution_count": 79,
   "id": "336865e2-b73a-471e-8a6a-e242fab3c46f",
   "metadata": {},
   "outputs": [
    {
     "data": {
      "image/png": "[encoded data removed]",
      "text/plain": [
       "<Figure size 800x500 with 1 Axes>"
      ]
     },
     "metadata": {},
     "output_type": "display_data"
    }
   ],
   "source": [
    "plt.figure(figsize=(8, 5))\n",
    "sns.barplot(data=income_debt, x='total_income_category_', y='debt_mean', palette='Blues_d')\n",
    "plt.title('Proportion of Loan Repayment Issues by Income Category')\n",
    "plt.xlabel('Income Category')\n",
    "plt.ylabel('Proportion of Repayment Issues')\n",
    "plt.xticks(rotation=45, ha='right')\n",
    "plt.grid(axis='y', linestyle='--', alpha=0.7)\n",
    "plt.show()"
   ]
  },
  {
   "cell_type": "markdown",
   "id": "3986f753-2120-498e-a82d-fd9d66a598e6",
   "metadata": {},
   "source": [
    "The bar chart shows the proportion of loan repayment issues across different income categories:\n",
    "\n",
    "1. **Group C** (Middle Income: 50,001–200,000) has high proportion of repayment issues (~8.5%).\n",
    "2. **Group E** (Low Income: 0–30,000) has the highest proportion of repayment issues (~9%).\n",
    "3. **Group D** (Lower-Middle Income: 30,001–50,000) has the lowest proportion of repayment issues (~6%).\n",
    "4. **Group A** (High Income: 1,000,001+) and **Group B** (Upper-Middle Income: 200,001–1,000,000) show moderate proportions of repayment issues (~8%).\n",
    "\n",
    "Further statistical testing is required to determine if these differences are significant."
   ]
  },
  {
   "cell_type": "markdown",
   "id": "65791061-c17a-49c6-94ae-efd41c172d2d",
   "metadata": {},
   "source": [
    "**Hypotheses:**\n",
    "\n",
    "**Null Hypothesis (H₀):**\n",
    "There is no relationship between income level and loan repayment issues. The proportions of repayment issues are the same across all income groups.\n",
    "\n",
    "**Alternative Hypothesis (H₁):**\n",
    "There is a relationship between income level and loan repayment issues. The proportions of repayment issues differ across income groups.\n"
   ]
  },
  {
   "cell_type": "code",
   "execution_count": 72,
   "id": "2eaf0ef4-6992-408f-8cdb-46eebd100675",
   "metadata": {},
   "outputs": [
    {
     "name": "stdout",
     "output_type": "stream",
     "text": [
      "Chi-Square Test Statistic: 12.697736475674613\n",
      "p-value: 0.012851150768066123\n",
      "\n",
      "Conclusion: Reject the null hypothesis. There is a significant relationship between income level and loan repayment issues.\n"
     ]
    }
   ],
   "source": [
    "# Create a contingency table\n",
    "income_contingency_table = pd.crosstab(data['total_income_category'], data['debt'])\n",
    "\n",
    "# Perform the Chi-Square test\n",
    "chi2, p, dof, expected = chi2_contingency(income_contingency_table)\n",
    "\n",
    "print(\"Chi-Square Test Statistic:\", chi2)\n",
    "print(\"p-value:\", p)\n",
    "\n",
    "if p < 0.05:\n",
    "    print(\"\\nConclusion: Reject the null hypothesis. There is a significant relationship between income level and loan repayment issues.\")\n",
    "else:\n",
    "    print(\"\\nConclusion: Fail to reject the null hypothesis. There is no significant relationship between income level and loan repayment issues.\")\n"
   ]
  },
  {
   "cell_type": "markdown",
   "id": "5ebecb85-d077-4db0-9fcf-33bdae8cf0bb",
   "metadata": {},
   "source": [
    "We reject the null hypothesis. This means there is a statistically significant relationship between income level and loan repayment issues. Income level appears to influence the likelihood of loan repayment."
   ]
  },
  {
   "cell_type": "markdown",
   "id": "0b0905fb-f87d-4bc3-9c88-a026bdaf18c5",
   "metadata": {},
   "source": [
    "### 3.4 How do different loan purposes affect timely repayment?"
   ]
  },
  {
   "cell_type": "code",
   "execution_count": 73,
   "id": "54110baf-09fa-4956-bf62-c20d7e346623",
   "metadata": {},
   "outputs": [
    {
     "name": "stdout",
     "output_type": "stream",
     "text": [
      "          purpose_category_  debt_count  debt_sum  debt_mean\n",
      "0    операции с автомобилем        4279       400   0.093480\n",
      "1  операции с недвижимостью       10751       780   0.072551\n",
      "2     получение образования        3988       369   0.092528\n",
      "3        проведение свадьбы        2313       183   0.079118\n"
     ]
    }
   ],
   "source": [
    "purpose_debt = data.groupby('purpose_category').agg({'debt': ['count', 'sum', 'mean']}).reset_index()\n",
    "purpose_debt.columns = purpose_debt.columns.map('_'.join)\n",
    "print(purpose_debt)"
   ]
  },
  {
   "cell_type": "code",
   "execution_count": 77,
   "id": "6a37785f-142e-4421-a9e3-f5bcc4111bc2",
   "metadata": {},
   "outputs": [
    {
     "data": {
      "image/png": "[encoded data removed]",
      "text/plain": [
       "<Figure size 800x500 with 1 Axes>"
      ]
     },
     "metadata": {},
     "output_type": "display_data"
    }
   ],
   "source": [
    "plt.figure(figsize=(8, 5))\n",
    "sns.barplot(data=purpose_debt, x='purpose_category_', y='debt_mean', palette='Blues_d')\n",
    "plt.title('Proportion of Loan Repayment Issues by Loan Purpose')\n",
    "plt.xlabel('Loan Purpose')\n",
    "plt.ylabel('Proportion of Repayment Issues')\n",
    "plt.xticks(rotation=30, ha='right')\n",
    "plt.grid(axis='y', linestyle='--', alpha=0.7)\n",
    "plt.show()"
   ]
  },
  {
   "cell_type": "markdown",
   "id": "85a42e84-7e13-4fba-914a-40a154e318af",
   "metadata": {},
   "source": [
    "1. Loans for **real estate operations** show the lowest proportion of repayment issues (7.26%).\n",
    "2. Loans for **cars** and **education** have the highest proportions of repayment issues (~9.3%).\n",
    "3. Loans for **wedding arrangements** are in the mid-range, with a repayment issue proportion of 7.91%.\n",
    "\n",
    "Further statistical testing is needed to determine if these differences are significant."
   ]
  },
  {
   "cell_type": "code",
   "execution_count": 76,
   "id": "ba0f3290-8ac7-4487-8273-5712738bcf50",
   "metadata": {},
   "outputs": [
    {
     "name": "stdout",
     "output_type": "stream",
     "text": [
      "Chi-Square Test Statistic: 26.421595541475384\n",
      "p-value: 7.782778835417843e-06\n",
      "\n",
      "Conclusion: Reject the null hypothesis. There is a significant relationship between loan purpose and loan repayment issues.\n"
     ]
    }
   ],
   "source": [
    "# Create a contingency table\n",
    "purpose_contingency_table = pd.crosstab(data['purpose_category'], data['debt'])\n",
    "\n",
    "# Perform the Chi-Square test\n",
    "chi2, p, dof, expected = chi2_contingency(purpose_contingency_table)\n",
    "\n",
    "print(\"Chi-Square Test Statistic:\", chi2)\n",
    "print(\"p-value:\", p)\n",
    "\n",
    "if p < 0.05:\n",
    "    print(\"\\nConclusion: Reject the null hypothesis. There is a significant relationship between loan purpose and loan repayment issues.\")\n",
    "else:\n",
    "    print(\"\\nConclusion: Fail to reject the null hypothesis. There is no significant relationship between loan purpose and loan repayment issues.\")\n"
   ]
  },
  {
   "cell_type": "markdown",
   "id": "eb5915ba-70ca-4573-bd7b-cf70e7618e5f",
   "metadata": {},
   "source": [
    "We reject the null hypothesis. This indicates that there is a statistically significant relationship between loan purpose and loan repayment issues. Loan purpose has a measurable impact on the likelihood of timely repayment."
   ]
  },
  {
   "cell_type": "markdown",
   "id": "55d6bae6-3684-4465-9170-00a2a815c632",
   "metadata": {},
   "source": [
    "## Project Summary"
   ]
  },
  {
   "cell_type": "markdown",
   "id": "0ab4a1df-96d5-467b-a4eb-521403fd47a2",
   "metadata": {},
   "source": [
    "The goal of this project was to analyze how various factors, such as marital status, the number of children, income levels, and loan purposes, affect loan repayment behavior. The insights gained from this analysis aim to assist in refining the bank's credit scoring model, improving its accuracy in assessing the risk of loan repayment issues.\n",
    "\n",
    "**Was the Goal Achieved?**  \n",
    "Yes, the goal was achieved. Using statistical analyses and visualizations, we identified significant relationships between these factors and loan repayment behavior.\n",
    "\n",
    "---\n",
    "\n",
    "1. **Exploratory Data Analysis**:\n",
    "   - The dataset was examined for missing values and inconsistencies, and necessary preprocessing steps were applied.\n",
    "   - Income levels and loan purposes were categorized into meaningful groups.\n",
    "\n",
    "2. **Hypothesis Testing**:\n",
    "   - Chi-Square tests were performed to assess the statistical significance of the relationships between:\n",
    "     - **Marital Status** and Loan Repayment.\n",
    "     - **Number of Children** and Loan Repayment.\n",
    "     - **Income Level** and Loan Repayment.\n",
    "     - **Loan Purpose** and Loan Repayment.\n",
    "\n",
    "3. **Visualization**:\n",
    "   - Bar charts were used to visualize the proportion of repayment issues across various categories (e.g., marital status, income levels, loan purposes).\n",
    "\n",
    "---\n",
    "\n",
    "\n",
    "1. **Marital Status**:\n",
    "   - A statistically significant relationship was found.\n",
    "   - Clients who are **not married** have the highest proportion of repayment issues, while **widowed clients** have the lowest.\n",
    "\n",
    "2. **Number of Children**:\n",
    "   - A statistically significant relationship was found.\n",
    "   - Clients with **no children** have the lowest repayment issues, while repayment issues slightly increase with more children.\n",
    "\n",
    "3. **Income Levels**:\n",
    "   - A statistically significant relationship was found.\n",
    "   - Clients in the **middle income group (50,001–200,000)** and **low income group (0–30,000)** have the highest repayment issues, while the **lower-middle income group (30,001–50,000)** has the lowest.\n",
    "\n",
    "4. **Loan Purpose**:\n",
    "   - A statistically significant relationship was found.\n",
    "   - Loans for **real estate operations** have the lowest repayment issues, while loans for **cars** and **education** have the highest.\n",
    "\n",
    "---\n",
    "\n",
    "\n",
    "The insights derived from this analysis can be implemented as follows:\n",
    "1. **Refinement of Credit Scoring Models**:\n",
    "   - Incorporate factors like marital status, number of children, income level, and loan purpose into the scoring model to better predict repayment behavior.\n",
    "   - Assign higher risk scores to loan applications for purposes or groups with higher repayment issues (e.g., car loans, clients with many children).\n",
    "\n",
    "2. **Targeted Policies**:\n",
    "   - Design targeted financial education programs for high-risk groups, such as unmarried clients or those taking loans for cars and education.\n",
    "   - Adjust loan terms (e.g., interest rates, approval criteria) for high-risk categories to mitigate repayment issues.\n",
    "\n",
    "3. **Enhanced Decision-Making**:\n",
    "   - Enable loan officers to make more informed decisions by integrating these risk factors into their evaluations.\n",
    "\n",
    "---\n",
    "\n",
    "This project successfully identified key factors influencing loan repayment behavior and provided actionable insights to improve the bank's risk assessment and loan approval process. These findings can help the bank reduce loan defaults and optimize its credit policies.\n"
   ]
  }
 ],
 "metadata": {
  "kernelspec": {
   "display_name": "Python 3 (ipykernel)",
   "language": "python",
   "name": "python3"
  },
  "language_info": {
   "codemirror_mode": {
    "name": "ipython",
    "version": 3
   },
   "file_extension": ".py",
   "mimetype": "text/x-python",
   "name": "python",
   "nbconvert_exporter": "python",
   "pygments_lexer": "ipython3",
   "version": "3.11.5"
  }
 },
 "nbformat": 4,
 "nbformat_minor": 5
}
